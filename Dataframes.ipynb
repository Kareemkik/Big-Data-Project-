{
 "cells": [
  {
   "cell_type": "code",
   "execution_count": 18,
   "id": "ad284069-44ed-43bc-8435-70db97c86ad9",
   "metadata": {},
   "outputs": [
    {
     "name": "stderr",
     "output_type": "stream",
     "text": [
      "                                                                                "
     ]
    },
    {
     "name": "stdout",
     "output_type": "stream",
     "text": [
      "+--------+------------------+---------------------------------------------------------------------------------------+-------------+---------+--------+--------+-----------+------+-------+----------------------------------------------+-----------------+-----------------+-----------------+----------------------------------------------------------------------------------------------------------------------+-----------------------------------------------------------------------------------------------------------------+----------------------------------------------------------------------------------------------------------------------+-----------------------------------------------------------------------------------------------------------------+-----------------------------------------------------------------------------------------------------------------+--------------------------------------------------------------+-------+---------+\n",
      "|category|subcategory       |name                                                                                   |current_price|raw_price|currency|discount|likes_count|is_new|brand  |brand_url                                     |codCountry       |variation_0_color|variation_1_color|variation_0_thumbnail                                                                                                 |variation_0_image                                                                                                |variation_1_thumbnail                                                                                                 |variation_1_image                                                                                                |image_url                                                                                                        |url                                                           |id     |model    |\n",
      "+--------+------------------+---------------------------------------------------------------------------------------+-------------+---------+--------+--------+-----------+------+-------+----------------------------------------------+-----------------+-----------------+-----------------+----------------------------------------------------------------------------------------------------------------------+-----------------------------------------------------------------------------------------------------------------+----------------------------------------------------------------------------------------------------------------------+-----------------------------------------------------------------------------------------------------------------+-----------------------------------------------------------------------------------------------------------------+--------------------------------------------------------------+-------+---------+\n",
      "|shoes   |Mocassins         |Chaussures décontractées antidérapantes en tissu de soie glacée pour hommes            |36.4         |72.8     |USD     |50      |873        |false |NULL   |NULL                                          |ID,MY,PH,SG,TH,VN|Black            |Khaki            |https://imgaz1.chiccdn.com/thumb/list_grid/oaupload/newchic/images/CD/EA/3179a7d3-7afb-4799-8b13-4e733c0508f1.jpg     |https://imgaz1.chiccdn.com/thumb/view/oaupload/newchic/images/CD/EA/3179a7d3-7afb-4799-8b13-4e733c0508f1.jpg     |https://imgaz1.chiccdn.com/thumb/list_grid/oaupload/newchic/images/F2/3D/a6cf972f-4c86-4fe2-b02b-ee62b64c9429.jpg     |https://imgaz1.chiccdn.com/thumb/view/oaupload/newchic/images/F2/3D/a6cf972f-4c86-4fe2-b02b-ee62b64c9429.jpg     |https://imgaz1.chiccdn.com/thumb/view/oaupload/newchic/images/8E/09/5e11adf5-7896-4950-9a53-cab0db072904.jpg     |https://fr.newchic.com/flats-3616/p-1687903.html              |1687903|SKUF29428|\n",
      "|shoes   |Mocassins         |Chaussures en cuir à carreaux pour hommes de grande taille                             |46.36        |106.49   |USD     |57      |358        |false |NULL   |NULL                                          |ID,MY,PH,SG,TH,VN|Red              |Blue             |https://imgaz1.chiccdn.com/thumb/list_grid/oaupload/newchic/images/41/96/832e03a1-0f4d-4be0-a7fc-ec50aa9ac680.jpg     |https://imgaz1.chiccdn.com/thumb/view/oaupload/newchic/images/41/96/832e03a1-0f4d-4be0-a7fc-ec50aa9ac680.jpg     |https://imgaz1.chiccdn.com/thumb/list_grid/oaupload/newchic/images/D7/4C/dba63315-dc00-44fc-bd1f-31723795a91c.jpg     |https://imgaz1.chiccdn.com/thumb/view/oaupload/newchic/images/D7/4C/dba63315-dc00-44fc-bd1f-31723795a91c.jpg     |https://imgaz1.chiccdn.com/thumb/view/oaupload/newchic/images/D7/4C/dba63315-dc00-44fc-bd1f-31723795a91c.jpg     |https://fr.newchic.com/flats-3616/p-1533324.html              |1533324|SKUC99128|\n",
      "|shoes   |Mocassins         |Chaussures décontractées en cuir pour hommes                                           |43.38        |119.98   |USD     |64      |1511       |false | Menico|https://fr.newchic.com/-menico-brand-1716.html|ID,MY,PH,SG,TH,VN|Black            |Khaki            |https://imgaz1.chiccdn.com/thumb/list_grid/oaupload/newchic/images/E1/0E/8a23b2ca-f762-4462-801d-682d2efeb153.jpg     |https://imgaz1.chiccdn.com/thumb/view/oaupload/newchic/images/E1/0E/8a23b2ca-f762-4462-801d-682d2efeb153.jpg     |https://imgaz1.chiccdn.com/thumb/list_grid/oaupload/newchic/images/C7/AF/e0f2545a-5c29-4bf8-9815-cf6233dfd258.jpg     |https://imgaz1.chiccdn.com/thumb/view/oaupload/newchic/images/C7/AF/e0f2545a-5c29-4bf8-9815-cf6233dfd258.jpg     |https://imgaz1.chiccdn.com/thumb/view/oaupload/newchic/images/47/D5/4b4406f4-ef3c-45b6-a986-cc3bbe4a5533.jpg     |https://fr.newchic.com/-menico-flats-3616/p-1651734.html      |1651734|SKUE68011|\n",
      "|shoes   |Sneakers & Baskets|Baskets plates élastiques en tricot d'épissage                                         |19.99        |39.99    |USD     |50      |1873       |false |NULL   |NULL                                          |ID,MY,PH,SG,TH,VN|Green            |Blue             |https://imgaz1.chiccdn.com/thumb/list_grid/oaupload/newchic/images/28/EC/8c14c19b-0bcc-42aa-83a5-083ed4ff7e41.jpg     |https://imgaz1.chiccdn.com/thumb/view/oaupload/newchic/images/28/EC/8c14c19b-0bcc-42aa-83a5-083ed4ff7e41.jpg     |https://imgaz1.chiccdn.com/thumb/list_grid/oaupload/ser1/newchic/images/E6/DD/e5d71f25-4b7a-47cf-8fdb-b379206d8827.jpg|https://imgaz1.chiccdn.com/thumb/view/oaupload/ser1/newchic/images/E6/DD/e5d71f25-4b7a-47cf-8fdb-b379206d8827.jpg|https://imgaz1.chiccdn.com/thumb/view/oaupload/newchic/images/B6/63/ab349d9c-106a-498f-af01-65c40c4a31c7.jpg     |https://fr.newchic.com/sneakersandathletic-3596/p-1591892.html|1591892|SKUD85085|\n",
      "|shoes   |Mocassins         |Hommes Cuir Épissage Soft Semelle Casual Chaussures                                    |46.18        |119.98   |USD     |62      |2738       |false |NULL   |NULL                                          |ID,MY,PH,SG,TH,VN|Bleu             |Noir             |https://imgaz1.chiccdn.com/thumb/list_grid/oaupload/newchic/images/C3/47/a0b31cae-2883-437b-b7ce-ea16b7ac3e8f.jpg     |https://imgaz1.chiccdn.com/thumb/view/oaupload/newchic/images/C3/47/a0b31cae-2883-437b-b7ce-ea16b7ac3e8f.jpg     |https://imgaz1.chiccdn.com/thumb/list_grid/oaupload/newchic/images/7E/0E/66a8b168-f33d-44c8-a90f-e39e0b2a53b7.jpg     |https://imgaz1.chiccdn.com/thumb/view/oaupload/newchic/images/7E/0E/66a8b168-f33d-44c8-a90f-e39e0b2a53b7.jpg     |https://imgaz1.chiccdn.com/thumb/view/oaupload/newchic/images/88/5E/bce7121c-9113-415e-858b-b26b8c74c06b.jpg     |https://fr.newchic.com/flats-3616/p-1474682.html              |1474682|SKUC15622|\n",
      "|shoes   |Mocassins         |Chaussures décontractées antidérapantes en cuir microfibre pour hommes                 |45.57        |91.14    |USD     |50      |202        |false |NULL   |NULL                                          |ID,MY,PH,SG,TH,VN|Blue             |Coffee           |https://imgaz1.chiccdn.com/thumb/list_grid/oaupload/newchic/images/0F/EF/07369ce1-c5bf-4ca8-a5ca-ec338e995b9d.jpg     |https://imgaz1.chiccdn.com/thumb/view/oaupload/newchic/images/0F/EF/07369ce1-c5bf-4ca8-a5ca-ec338e995b9d.jpg     |https://imgaz1.chiccdn.com/thumb/list_grid/oaupload/newchic/images/01/06/f017d708-a21b-4b73-a811-9b026d7ae8a8.jpg     |https://imgaz1.chiccdn.com/thumb/view/oaupload/newchic/images/01/06/f017d708-a21b-4b73-a811-9b026d7ae8a8.jpg     |https://imgaz1.chiccdn.com/thumb/view/oaupload/newchic/images/13/C0/2004c9eb-df07-4c69-a00a-2290541a2d4f.jpg     |https://fr.newchic.com/flats-3616/p-1682984.html              |1682984|SKUF29370|\n",
      "|shoes   |Mocassins         |Chaussures de conduite décontractées antidérapantes en tissu de soie glacée pour hommes|36.64        |73.28    |USD     |50      |303        |false |NULL   |NULL                                          |ID,MY,PH,SG,TH,VN|kaki             |Noir             |https://imgaz1.chiccdn.com/thumb/list_grid/oaupload/newchic/images/6E/8B/9616aae3-cc29-4b0d-97f3-67b30a01410a.jpg     |https://imgaz1.chiccdn.com/thumb/view/oaupload/newchic/images/6E/8B/9616aae3-cc29-4b0d-97f3-67b30a01410a.jpg     |https://imgaz1.chiccdn.com/thumb/list_grid/oaupload/newchic/images/6C/12/1892455e-4384-4119-8abd-abd1c1609187.jpg     |https://imgaz1.chiccdn.com/thumb/view/oaupload/newchic/images/6C/12/1892455e-4384-4119-8abd-abd1c1609187.jpg     |https://imgaz1.chiccdn.com/thumb/view/oaupload/newchic/images/6E/8B/9616aae3-cc29-4b0d-97f3-67b30a01410a.jpg     |https://fr.newchic.com/flats-3616/p-1696409.html              |1696409|SKUF40815|\n",
      "|shoes   |Mocassins         |Chaussures décontractées confortables en toile lavée pour hommes                       |22.98        |63.98    |USD     |64      |3688       |false |NULL   |NULL                                          |ID,MY,PH,SG,TH,VN|Bleu foncé       |gris             |https://imgaz1.chiccdn.com/thumb/list_grid/oaupload/newchic/images/BA/55/ee76a79b-1bca-4010-8c11-ae1387741bb6.jpg     |https://imgaz1.chiccdn.com/thumb/view/oaupload/newchic/images/BA/55/ee76a79b-1bca-4010-8c11-ae1387741bb6.jpg     |https://imgaz1.chiccdn.com/thumb/list_grid/oaupload/newchic/images/A7/59/8a0fe6c0-2016-4979-8388-40c9a930b32b.jpg     |https://imgaz1.chiccdn.com/thumb/view/oaupload/newchic/images/A7/59/8a0fe6c0-2016-4979-8388-40c9a930b32b.jpg     |https://imgaz1.chiccdn.com/thumb/view/oaupload/newchic/images/33/A6/46da2516-369f-43fd-8a09-d9d3b49fa113.jpg     |https://fr.newchic.com/flats-3616/p-1488803.html              |1488803|SKUC25967|\n",
      "|shoes   |Bottes & Bottines |Bottes à talons blocs à lacets brodés                                                  |41.29        |96.94    |USD     |57      |5739       |false |NULL   |NULL                                          |ID,MY,PH,SG,TH,VN|Black1           |Brown            |https://imgaz1.chiccdn.com/thumb/list_grid/oaupload/ser1/newchic/images/52/63/ecae3d74-8009-47c4-bac1-d2f85b8210a7.jpg|https://imgaz1.chiccdn.com/thumb/view/oaupload/ser1/newchic/images/52/63/ecae3d74-8009-47c4-bac1-d2f85b8210a7.jpg|https://imgaz1.chiccdn.com/thumb/list_grid/oaupload/ser1/newchic/images/C1/10/2206dd9e-1be6-401c-b233-9a1ab9a53f7e.jpg|https://imgaz1.chiccdn.com/thumb/view/oaupload/ser1/newchic/images/C1/10/2206dd9e-1be6-401c-b233-9a1ab9a53f7e.jpg|https://imgaz1.chiccdn.com/thumb/view/oaupload/ser1/newchic/images/B2/8B/cc4ecd07-7f16-46a6-8bce-6efef591a0bc.jpg|https://fr.newchic.com/womens-boots-3599/p-1540079.html       |1540079|SKUD06092|\n",
      "|shoes   |Bottes & Bottines |Bottes d'été en cuir brodé de fleurs en strass                                         |32.99        |69.99    |USD     |53      |218        |false |NULL   |NULL                                          |ID,MY,PH,SG,TH,VN|Blue             |Purple           |https://imgaz1.chiccdn.com/thumb/list_grid/oaupload/newchic/images/02/B3/3a185300-6418-474c-ad76-ab00caff2d7d.jpg     |https://imgaz1.chiccdn.com/thumb/view/oaupload/newchic/images/02/B3/3a185300-6418-474c-ad76-ab00caff2d7d.jpg     |https://imgaz1.chiccdn.com/thumb/list_grid/oaupload/newchic/images/25/63/c33b2dcc-25fc-44fd-9781-d5297beba975.jpg     |https://imgaz1.chiccdn.com/thumb/view/oaupload/newchic/images/25/63/c33b2dcc-25fc-44fd-9781-d5297beba975.jpg     |https://imgaz1.chiccdn.com/thumb/view/oaupload/newchic/images/02/B3/3a185300-6418-474c-ad76-ab00caff2d7d.jpg     |https://fr.newchic.com/womens-boots-3599/p-1710310.html       |1710310|SKUF71539|\n",
      "+--------+------------------+---------------------------------------------------------------------------------------+-------------+---------+--------+--------+-----------+------+-------+----------------------------------------------+-----------------+-----------------+-----------------+----------------------------------------------------------------------------------------------------------------------+-----------------------------------------------------------------------------------------------------------------+----------------------------------------------------------------------------------------------------------------------+-----------------------------------------------------------------------------------------------------------------+-----------------------------------------------------------------------------------------------------------------+--------------------------------------------------------------+-------+---------+\n",
      "only showing top 10 rows\n",
      "\n",
      "root\n",
      " |-- category: string (nullable = true)\n",
      " |-- subcategory: string (nullable = true)\n",
      " |-- name: string (nullable = true)\n",
      " |-- current_price: double (nullable = true)\n",
      " |-- raw_price: double (nullable = true)\n",
      " |-- currency: string (nullable = true)\n",
      " |-- discount: integer (nullable = true)\n",
      " |-- likes_count: integer (nullable = true)\n",
      " |-- is_new: boolean (nullable = true)\n",
      " |-- brand: string (nullable = true)\n",
      " |-- brand_url: string (nullable = true)\n",
      " |-- codCountry: string (nullable = true)\n",
      " |-- variation_0_color: string (nullable = true)\n",
      " |-- variation_1_color: string (nullable = true)\n",
      " |-- variation_0_thumbnail: string (nullable = true)\n",
      " |-- variation_0_image: string (nullable = true)\n",
      " |-- variation_1_thumbnail: string (nullable = true)\n",
      " |-- variation_1_image: string (nullable = true)\n",
      " |-- image_url: string (nullable = true)\n",
      " |-- url: string (nullable = true)\n",
      " |-- id: integer (nullable = true)\n",
      " |-- model: string (nullable = true)\n",
      "\n"
     ]
    }
   ],
   "source": [
    "from pyspark.sql import SparkSession\n",
    "\n",
    "# Initialize Spark session\n",
    "spark = SparkSession.builder \\\n",
    "    .appName(\"EcommerceProductAnalysis\") \\\n",
    "    .config(\"spark.hadoop.fs.defaultFS\", \"hdfs://namenode-master:8020\") \\\n",
    "    .getOrCreate()\n",
    "\n",
    "# Load CSV files into DataFrames\n",
    "df_shoes = spark.read.csv(\"hdfs://namenode-master:8020/shoes1.csv\", header=True, inferSchema=True)\n",
    "df_jewelry = spark.read.csv(\"hdfs://namenode-master:8020/jewelry1.csv\", header=True, inferSchema=True)\n",
    "df_accessories = spark.read.csv(\"hdfs://namenode-master:8020/accessories1.csv\", header=True, inferSchema=True)\n",
    "\n",
    "# Ensure all DataFrames have the same columns\n",
    "df_shoes = df_shoes.select(*df_jewelry.columns)  \n",
    "df_accessories = df_accessories.select(*df_jewelry.columns)\n",
    "\n",
    "# Combine all DataFrames into one\n",
    "df_combined = df_shoes.unionAll(df_jewelry).unionAll(df_accessories)\n",
    "\n",
    "# Show the final DataFrame\n",
    "df_combined.show(10, truncate=False)\n",
    "df_combined.printSchema()\n",
    "\n",
    "\n"
   ]
  },
  {
   "cell_type": "code",
   "execution_count": 19,
   "id": "1f38569e-6dcf-44e3-be24-103a99a82973",
   "metadata": {},
   "outputs": [],
   "source": [
    "from pyspark.sql import functions as F\n",
    "\n",
    "# Function to calculate the average price for each category\n",
    "def avg_price_by_category(df):\n",
    "    return df.groupBy(\"category\").agg(F.avg(\"current_price\").alias(\"avg_price_category\"))\n",
    "\n",
    "# Function to calculate the average price for each subcategory\n",
    "def avg_price_by_subcategory(df):\n",
    "    return df.groupBy(\"subcategory\").agg(F.avg(\"current_price\").alias(\"avg_price_subcategory\"))\n",
    "\n",
    "# Function to calculate the average discount for each category\n",
    "def avg_discount_by_category(df):\n",
    "    return df.groupBy(\"category\").agg(F.avg(\"discount\").alias(\"avg_discount_category\"))\n",
    "\n",
    "# Function to calculate the average discount for each subcategory\n",
    "def avg_discount_by_subcategory(df):\n",
    "    return df.groupBy(\"subcategory\").agg(F.avg(\"discount\").alias(\"avg_discount_subcategory\"))\n",
    "\n",
    "# Function to calculate the average likes for each category\n",
    "def avg_likes_by_category(df):\n",
    "    return df.groupBy(\"category\").agg(F.avg(\"likes_count\").alias(\"avg_likes_category\"))\n",
    "\n",
    "# Function to calculate the average likes for each subcategory\n",
    "def avg_likes_by_subcategory(df):\n",
    "    return df.groupBy(\"subcategory\").agg(F.avg(\"likes_count\").alias(\"avg_likes_subcategory\"))\n",
    "\n",
    "# Function to calculate the sum of unused products in each category\n",
    "def sum_unused_by_category(df):\n",
    "    # Ensure the \"is_new\" column is numeric before summing it up\n",
    "    df = df.withColumn(\"is_new_numeric\", F.col(\"is_new\").cast(\"int\"))\n",
    "    return df.groupBy(\"category\").agg(F.sum(\"is_new_numeric\").alias(\"sum_unused_category\"))\n",
    "\n",
    "# Function to calculate the sum of unused products in each subcategory\n",
    "def sum_unused_by_subcategory(df):\n",
    "    # Ensure the \"is_new\" column is numeric before summing it up\n",
    "    df = df.withColumn(\"is_new_numeric\", F.col(\"is_new\").cast(\"int\"))\n",
    "    return df.groupBy(\"subcategory\").agg(F.sum(\"is_new_numeric\").alias(\"sum_unused_subcategory\"))"
   ]
  },
  {
   "cell_type": "code",
   "execution_count": 20,
   "id": "f67c9c07-0ab0-476d-a1d0-ed58b84e861b",
   "metadata": {},
   "outputs": [
    {
     "name": "stderr",
     "output_type": "stream",
     "text": [
      "                                                                                "
     ]
    },
    {
     "name": "stdout",
     "output_type": "stream",
     "text": [
      "+-----------+------------------+\n",
      "|   category|avg_price_category|\n",
      "+-----------+------------------+\n",
      "|      shoes| 38.08437959908639|\n",
      "|    jewelry|16.452732330517176|\n",
      "|accessories| 12.15106637307336|\n",
      "+-----------+------------------+\n",
      "\n"
     ]
    },
    {
     "name": "stderr",
     "output_type": "stream",
     "text": [
      "                                                                                "
     ]
    },
    {
     "name": "stdout",
     "output_type": "stream",
     "text": [
      "+--------------------+---------------------+\n",
      "|         subcategory|avg_price_subcategory|\n",
      "+--------------------+---------------------+\n",
      "|  Claquettes & Tongs|   25.934100529100505|\n",
      "|             Baskets|   38.950834597875605|\n",
      "|ACCESSOIRES CHAUS...|    9.556521739130435|\n",
      "|             Slipper|    16.41359281437126|\n",
      "| Chaussures de ville|    43.64528340080969|\n",
      "|              Bottes|               21.485|\n",
      "| Derbies & Mocassins|   32.199906015037676|\n",
      "|        Plate-formes|                15.87|\n",
      "|               Pumps|   26.358205128205128|\n",
      "|Bottes & Chaussur...|    46.25041958041958|\n",
      "|  Sneakers & Baskets|    32.69600414078672|\n",
      "|Chaussures de jeu...|                16.95|\n",
      "|      Flat & Loafers|   24.061111111111106|\n",
      "|           Escarpins|   46.614247311827846|\n",
      "|            Sandales|    38.51979856115107|\n",
      "|           Mocassins|    44.90436288901939|\n",
      "|          Plateforme|    31.75794871794872|\n",
      "|    Sandales & Mules|    34.92400000000005|\n",
      "|           Chaussons|     24.5769512195122|\n",
      "|   Bottes & Bottines|   44.448118811881386|\n",
      "+--------------------+---------------------+\n",
      "only showing top 20 rows\n",
      "\n"
     ]
    },
    {
     "name": "stderr",
     "output_type": "stream",
     "text": [
      "                                                                                "
     ]
    },
    {
     "name": "stdout",
     "output_type": "stream",
     "text": [
      "+-----------+---------------------+\n",
      "|   category|avg_discount_category|\n",
      "+-----------+---------------------+\n",
      "|      shoes|    53.04076799458682|\n",
      "|accessories|    50.75762818496383|\n",
      "|    jewelry|     53.1318771893674|\n",
      "+-----------+---------------------+\n",
      "\n"
     ]
    },
    {
     "name": "stderr",
     "output_type": "stream",
     "text": [
      "                                                                                "
     ]
    },
    {
     "name": "stdout",
     "output_type": "stream",
     "text": [
      "+--------------------+------------------------+\n",
      "|         subcategory|avg_discount_subcategory|\n",
      "+--------------------+------------------------+\n",
      "|  Claquettes & Tongs|       50.46560846560847|\n",
      "|             Baskets|      55.091805766312596|\n",
      "|ACCESSOIRES CHAUS...|       51.73913043478261|\n",
      "|             Slipper|       52.34131736526946|\n",
      "| Chaussures de ville|      55.388663967611336|\n",
      "|              Bottes|                    55.5|\n",
      "| Derbies & Mocassins|      52.845238095238095|\n",
      "|        Plate-formes|      58.333333333333336|\n",
      "|               Pumps|       53.56410256410256|\n",
      "|Bottes & Chaussur...|      56.215384615384615|\n",
      "|  Sneakers & Baskets|       51.79710144927536|\n",
      "|      Flat & Loafers|      52.592592592592595|\n",
      "|           Escarpins|       52.20967741935484|\n",
      "|            Sandales|      56.257553956834535|\n",
      "|           Mocassins|      49.517322372284205|\n",
      "|          Plateforme|      52.243589743589745|\n",
      "|    Sandales & Mules|      52.473134328358206|\n",
      "|           Chaussons|       56.94308943089431|\n",
      "|   Bottes & Bottines|       53.26996699669967|\n",
      "|    CHAUSSURES HOMME|                    51.0|\n",
      "+--------------------+------------------------+\n",
      "only showing top 20 rows\n",
      "\n"
     ]
    },
    {
     "name": "stderr",
     "output_type": "stream",
     "text": [
      "                                                                                "
     ]
    },
    {
     "name": "stdout",
     "output_type": "stream",
     "text": [
      "+-----------+------------------+\n",
      "|   category|avg_likes_category|\n",
      "+-----------+------------------+\n",
      "|      shoes| 284.0918548591728|\n",
      "|    jewelry| 166.1458891407377|\n",
      "|accessories| 96.49606794589494|\n",
      "+-----------+------------------+\n",
      "\n"
     ]
    },
    {
     "name": "stderr",
     "output_type": "stream",
     "text": [
      "                                                                                "
     ]
    },
    {
     "name": "stdout",
     "output_type": "stream",
     "text": [
      "+--------------------+---------------------+\n",
      "|         subcategory|avg_likes_subcategory|\n",
      "+--------------------+---------------------+\n",
      "|  Claquettes & Tongs|   204.86772486772486|\n",
      "|             Baskets|    89.13581183611532|\n",
      "|ACCESSOIRES CHAUS...|    427.5217391304348|\n",
      "|             Slipper|    30.45508982035928|\n",
      "| Chaussures de ville|   162.88663967611336|\n",
      "|              Bottes|                169.0|\n",
      "| Derbies & Mocassins|    497.7136591478697|\n",
      "|        Plate-formes|   33.666666666666664|\n",
      "|               Pumps|     76.8974358974359|\n",
      "|Bottes & Chaussur...|   175.77902097902097|\n",
      "|  Sneakers & Baskets|   293.22256728778467|\n",
      "|      Flat & Loafers|                142.0|\n",
      "|           Escarpins|    519.8844086021505|\n",
      "|            Sandales|   104.38561151079136|\n",
      "|           Mocassins|    197.0093951849677|\n",
      "|          Plateforme|    249.7948717948718|\n",
      "|    Sandales & Mules|   381.47985074626865|\n",
      "|           Chaussons|    103.5650406504065|\n",
      "|   Bottes & Bottines|   452.96699669966995|\n",
      "|    CHAUSSURES HOMME|                 16.5|\n",
      "+--------------------+---------------------+\n",
      "only showing top 20 rows\n",
      "\n"
     ]
    },
    {
     "name": "stderr",
     "output_type": "stream",
     "text": [
      "                                                                                "
     ]
    },
    {
     "name": "stdout",
     "output_type": "stream",
     "text": [
      "+-----------+-------------------+\n",
      "|   category|sum_unused_category|\n",
      "+-----------+-------------------+\n",
      "|      shoes|                271|\n",
      "|accessories|                107|\n",
      "|    jewelry|                113|\n",
      "+-----------+-------------------+\n",
      "\n"
     ]
    },
    {
     "name": "stderr",
     "output_type": "stream",
     "text": [
      "                                                                                "
     ]
    },
    {
     "name": "stdout",
     "output_type": "stream",
     "text": [
      "+--------------------+----------------------+\n",
      "|         subcategory|sum_unused_subcategory|\n",
      "+--------------------+----------------------+\n",
      "|  Claquettes & Tongs|                    27|\n",
      "|             Baskets|                    68|\n",
      "|ACCESSOIRES CHAUS...|                     2|\n",
      "|             Slipper|                     2|\n",
      "| Chaussures de ville|                     5|\n",
      "|              Bottes|                     0|\n",
      "| Derbies & Mocassins|                    38|\n",
      "|        Plate-formes|                     0|\n",
      "|               Pumps|                     0|\n",
      "|Bottes & Chaussur...|                    19|\n",
      "|  Sneakers & Baskets|                    41|\n",
      "|      Flat & Loafers|                     0|\n",
      "|           Escarpins|                     2|\n",
      "|            Sandales|                    10|\n",
      "|           Mocassins|                    21|\n",
      "|          Plateforme|                     2|\n",
      "|    Sandales & Mules|                    15|\n",
      "|           Chaussons|                     1|\n",
      "|   Bottes & Bottines|                    18|\n",
      "|    CHAUSSURES HOMME|                     0|\n",
      "+--------------------+----------------------+\n",
      "only showing top 20 rows\n",
      "\n"
     ]
    },
    {
     "name": "stderr",
     "output_type": "stream",
     "text": [
      "                                                                                "
     ]
    }
   ],
   "source": [
    "# Assuming df_shoes is your dataframe\n",
    "\n",
    "output_path = \"hdfs://namenode-master:8020/output/\"\n",
    "\n",
    "# 1. Average price by category\n",
    "df_avg_price_category = avg_price_by_category(df_combined)\n",
    "df_avg_price_category.show(20)\n",
    "\n",
    "# 2. Average price by subcategory\n",
    "df_avg_price_subcategory = avg_price_by_subcategory(df_combined)\n",
    "df_avg_price_subcategory.show(20)\n",
    "\n",
    "# 3. Average discount by category\n",
    "df_avg_discount_category = avg_discount_by_category(df_combined)\n",
    "df_avg_discount_category.show(20)\n",
    "\n",
    "# 4. Average discount by subcategory\n",
    "df_avg_discount_subcategory = avg_discount_by_subcategory(df_combined)\n",
    "df_avg_discount_subcategory.show(20)\n",
    "\n",
    "# 5. Average likes by category\n",
    "df_avg_likes_category = avg_likes_by_category(df_combined)\n",
    "df_avg_likes_category.show(20)\n",
    "\n",
    "# 6. Average likes by subcategory\n",
    "df_avg_likes_subcategory = avg_likes_by_subcategory(df_combined)\n",
    "df_avg_likes_subcategory.show(20)\n",
    "\n",
    "# 7. Sum of unused products by category\n",
    "df_sum_unused_category = sum_unused_by_category(df_combined)\n",
    "df_sum_unused_category.show(20)\n",
    "\n",
    "# 8. Sum of unused products by subcategory\n",
    "df_sum_unused_subcategory = sum_unused_by_subcategory(df_combined)\n",
    "df_sum_unused_subcategory.show(20)\n",
    "\n",
    "\n",
    "\n",
    "output_path1 = \"hdfs://namenode-master:8020/output_parquet/\"\n",
    "\n",
    "# Save each DataFrame to HDFS as CSV\n",
    "df_avg_price_category.write.mode(\"overwrite\").csv(output_path + \"avg_price_category\", header=True)\n",
    "df_avg_price_subcategory.write.mode(\"overwrite\").csv(output_path + \"avg_price_subcategory\", header=True)\n",
    "df_avg_discount_category.write.mode(\"overwrite\").csv(output_path + \"avg_discount_category\", header=True)\n",
    "df_avg_discount_subcategory.write.mode(\"overwrite\").csv(output_path + \"avg_discount_subcategory\", header=True)\n",
    "df_avg_likes_category.write.mode(\"overwrite\").csv(output_path + \"avg_likes_category\", header=True)\n",
    "df_avg_likes_subcategory.write.mode(\"overwrite\").csv(output_path + \"avg_likes_subcategory\", header=True)\n",
    "df_sum_unused_category.write.mode(\"overwrite\").csv(output_path + \"sum_unused_category\", header=True)\n",
    "df_sum_unused_subcategory.write.mode(\"overwrite\").csv(output_path + \"sum_unused_subcategory\", header=True)\n",
    "\n",
    "df_avg_price_category.write.mode(\"overwrite\").parquet(output_path1 + \"avg_price_category\")\n",
    "df_avg_price_subcategory.write.mode(\"overwrite\").parquet(output_path1 + \"avg_price_subcategory\")\n",
    "df_avg_discount_category.write.mode(\"overwrite\").parquet(output_path1 + \"avg_discount_category\")\n",
    "df_avg_discount_subcategory.write.mode(\"overwrite\").parquet(output_path1 + \"avg_discount_subcategory\")\n",
    "df_avg_likes_category.write.mode(\"overwrite\").parquet(output_path1 + \"avg_likes_category\")\n",
    "df_avg_likes_subcategory.write.mode(\"overwrite\").parquet(output_path1 + \"avg_likes_subcategory\")\n",
    "df_sum_unused_category.write.mode(\"overwrite\").parquet(output_path1 + \"sum_unused_category\")\n",
    "df_sum_unused_subcategory.write.mode(\"overwrite\").parquet(output_path1 + \"sum_unused_subcategory\")\n"
   ]
  },
  {
   "cell_type": "code",
   "execution_count": 21,
   "id": "8d1629c1-e4d5-4db4-891a-6f964af5a303",
   "metadata": {},
   "outputs": [
    {
     "data": {
      "text/plain": [
       "['category',\n",
       " 'subcategory',\n",
       " 'name',\n",
       " 'current_price',\n",
       " 'raw_price',\n",
       " 'currency',\n",
       " 'discount',\n",
       " 'likes_count',\n",
       " 'is_new',\n",
       " 'brand',\n",
       " 'brand_url',\n",
       " 'codCountry',\n",
       " 'variation_0_color',\n",
       " 'variation_1_color',\n",
       " 'variation_0_thumbnail',\n",
       " 'variation_0_image',\n",
       " 'variation_1_thumbnail',\n",
       " 'variation_1_image',\n",
       " 'image_url',\n",
       " 'url',\n",
       " 'id',\n",
       " 'model']"
      ]
     },
     "execution_count": 21,
     "metadata": {},
     "output_type": "execute_result"
    }
   ],
   "source": [
    "df_combined.columns"
   ]
  },
  {
   "cell_type": "code",
   "execution_count": 22,
   "id": "4fe6e503-6020-4865-91eb-36ff0d6399da",
   "metadata": {},
   "outputs": [],
   "source": [
    "df_combined = df_combined.withColumn(\"is_new\", df_combined[\"is_new\"].cast(\"integer\"))"
   ]
  },
  {
   "cell_type": "code",
   "execution_count": 23,
   "id": "710c40ab-4722-491b-b86a-31ee8f104892",
   "metadata": {},
   "outputs": [
    {
     "name": "stderr",
     "output_type": "stream",
     "text": [
      "                                                                                "
     ]
    },
    {
     "name": "stdout",
     "output_type": "stream",
     "text": [
      "+-----------+-----------------+\n",
      "|   category|        avg_likes|\n",
      "+-----------+-----------------+\n",
      "|accessories|96.49606794589494|\n",
      "+-----------+-----------------+\n",
      "\n",
      "+--------+-----------------+\n",
      "|category|        avg_likes|\n",
      "+--------+-----------------+\n",
      "|   shoes|284.0918548591728|\n",
      "+--------+-----------------+\n",
      "\n",
      "+-----------+-----------------+\n",
      "|subcategory|        avg_likes|\n",
      "+-----------+-----------------+\n",
      "|  Escarpins|519.8844086021505|\n",
      "+-----------+-----------------+\n",
      "\n",
      "+--------------------+-----------------+\n",
      "|         subcategory|        avg_likes|\n",
      "+--------------------+-----------------+\n",
      "|Sun Protection Sl...|6.054054054054054|\n",
      "+--------------------+-----------------+\n",
      "\n"
     ]
    },
    {
     "name": "stderr",
     "output_type": "stream",
     "text": [
      "                                                                                "
     ]
    },
    {
     "name": "stdout",
     "output_type": "stream",
     "text": [
      "+------------+-----------------+\n",
      "| subcategory|        avg_price|\n",
      "+------------+-----------------+\n",
      "|Military Hat|18.22666666666667|\n",
      "+------------+-----------------+\n",
      "\n",
      "+--------+----------------+\n",
      "|category|    avg_discount|\n",
      "+--------+----------------+\n",
      "| jewelry|53.1318771893674|\n",
      "+--------+----------------+\n",
      "\n"
     ]
    },
    {
     "name": "stderr",
     "output_type": "stream",
     "text": [
      "                                                                                "
     ]
    },
    {
     "name": "stdout",
     "output_type": "stream",
     "text": [
      "+-----------+-----------------+\n",
      "|   category|     avg_discount|\n",
      "+-----------+-----------------+\n",
      "|accessories|50.75762818496383|\n",
      "+-----------+-----------------+\n",
      "\n"
     ]
    },
    {
     "name": "stderr",
     "output_type": "stream",
     "text": [
      "                                                                                "
     ]
    },
    {
     "name": "stdout",
     "output_type": "stream",
     "text": [
      "+-----------+-----+\n",
      "|subcategory|count|\n",
      "+-----------+-----+\n",
      "|  Mocassins| 1703|\n",
      "+-----------+-----+\n",
      "\n"
     ]
    },
    {
     "name": "stderr",
     "output_type": "stream",
     "text": [
      "                                                                                "
     ]
    },
    {
     "name": "stdout",
     "output_type": "stream",
     "text": [
      "+--------+------------+\n",
      "|category|total_unused|\n",
      "+--------+------------+\n",
      "|   shoes|         271|\n",
      "+--------+------------+\n",
      "\n"
     ]
    },
    {
     "name": "stderr",
     "output_type": "stream",
     "text": [
      "[Stage 393:=========>                                               (1 + 5) / 6]"
     ]
    },
    {
     "name": "stdout",
     "output_type": "stream",
     "text": [
      "+-----------+------------+\n",
      "|subcategory|total_unused|\n",
      "+-----------+------------+\n",
      "|    Baskets|          68|\n",
      "+-----------+------------+\n",
      "\n"
     ]
    },
    {
     "name": "stderr",
     "output_type": "stream",
     "text": [
      "                                                                                "
     ]
    }
   ],
   "source": [
    "from pyspark.sql import functions as F\n",
    "\n",
    "# 1️⃣ Least Popular Product Type (lowest average likes)\n",
    "least_popular_product = df_combined.groupBy(\"category\") \\\n",
    "    .agg(F.avg(\"likes_count\").alias(\"avg_likes\")) \\\n",
    "    .orderBy(\"avg_likes\", ascending=True) \\\n",
    "    .limit(1)\n",
    "least_popular_product.show()\n",
    "\n",
    "# 2️⃣ Most Popular Product Type (highest average likes)\n",
    "most_popular_product = df_combined.groupBy(\"category\") \\\n",
    "    .agg(F.avg(\"likes_count\").alias(\"avg_likes\")) \\\n",
    "    .orderBy(\"avg_likes\", ascending=False) \\\n",
    "    .limit(1)\n",
    "most_popular_product.show()\n",
    "\n",
    "# 3️⃣ Most Popular Subcategory (highest likes)\n",
    "most_popular_subcategory = df_combined.groupBy(\"subcategory\") \\\n",
    "    .agg(F.avg(\"likes_count\").alias(\"avg_likes\")) \\\n",
    "    .orderBy(\"avg_likes\", ascending=False) \\\n",
    "    .limit(1)\n",
    "most_popular_subcategory.show()\n",
    "\n",
    "# 4️⃣ Least Popular Subcategory (lowest likes)\n",
    "least_popular_subcategory = df_combined.groupBy(\"subcategory\") \\\n",
    "    .agg(F.avg(\"likes_count\").alias(\"avg_likes\")) \\\n",
    "    .orderBy(\"avg_likes\", ascending=True) \\\n",
    "    .limit(1)\n",
    "least_popular_subcategory.show()\n",
    "\n",
    "# 5️⃣ Most Expensive Accessory Subcategory\n",
    "most_expensive_accessory = df_combined.filter(df_combined[\"category\"] == \"accessories\") \\\n",
    "    .groupBy(\"subcategory\") \\\n",
    "    .agg(F.avg(\"current_price\").alias(\"avg_price\")) \\\n",
    "    .orderBy(\"avg_price\", ascending=False) \\\n",
    "    .limit(1)\n",
    "most_expensive_accessory.show()\n",
    "\n",
    "# 6️⃣ Product Type with the Highest Discount\n",
    "highest_discount_category = df_combined.groupBy(\"category\") \\\n",
    "    .agg(F.avg(\"discount\").alias(\"avg_discount\")) \\\n",
    "    .orderBy(\"avg_discount\", ascending=False) \\\n",
    "    .limit(1)\n",
    "highest_discount_category.show()\n",
    "\n",
    "# 7️⃣ Product Type with the Lowest Discount\n",
    "lowest_discount_category = df_combined.groupBy(\"category\") \\\n",
    "    .agg(F.avg(\"discount\").alias(\"avg_discount\")) \\\n",
    "    .orderBy(\"avg_discount\", ascending=True) \\\n",
    "    .limit(1)\n",
    "lowest_discount_category.show()\n",
    "\n",
    "# 8️⃣ Most Common Men's Product Subcategory\n",
    "common_mens_subcategory = df_combined.filter(df_combined[\"category\"].contains(\"shoes\")) \\\n",
    "    .groupBy(\"subcategory\") \\\n",
    "    .count() \\\n",
    "    .orderBy(\"count\", ascending=False) \\\n",
    "    .limit(1)\n",
    "common_mens_subcategory.show()\n",
    "\n",
    "# 9️⃣ Product Type with the Most Unused Products\n",
    "most_unused_category = df_combined.groupBy(\"category\") \\\n",
    "    .agg(F.sum(\"is_new\").alias(\"total_unused\")) \\\n",
    "    .orderBy(\"total_unused\", ascending=False) \\\n",
    "    .limit(1)\n",
    "most_unused_category.show()\n",
    "\n",
    "# 🔟 Subcategory Product with the Most Unused Products\n",
    "most_unused_subcategory = df_combined.groupBy(\"subcategory\") \\\n",
    "    .agg(F.sum(\"is_new\").alias(\"total_unused\")) \\\n",
    "    .orderBy(\"total_unused\", ascending=False) \\\n",
    "    .limit(1)\n",
    "most_unused_subcategory.show()"
   ]
  },
  {
   "cell_type": "code",
   "execution_count": 24,
   "id": "5e9300fe-73d4-4ec9-8991-09e272e21d3b",
   "metadata": {},
   "outputs": [
    {
     "name": "stderr",
     "output_type": "stream",
     "text": [
      "                                                                                "
     ]
    }
   ],
   "source": [
    "# Import required functions\n",
    "from pyspark.sql.functions import col\n",
    "\n",
    "# Repartition and write to HDFS as Parquet\n",
    "df_combined.repartition(16).write.mode(\"overwrite\").partitionBy(\"category\").parquet(\"hdfs://namenode-master:8020/df_combined\")"
   ]
  },
  {
   "cell_type": "code",
   "execution_count": null,
   "id": "b57c47b1",
   "metadata": {},
   "outputs": [],
   "source": [
    "# i tried the bonus \n",
    "\n",
    "from pyspark.sql import SparkSession\n",
    "from pyspark.sql.types import StructType, StructField, IntegerType, StringType, DoubleType\n",
    "\n",
    "# Initialize Spark session\n",
    "spark = SparkSession.builder \\\n",
    "    .appName(\"HDFS to PostgreSQL\") \\\n",
    "    .config(\"spark.jars\", \"/opt/spark/jars/postgresql-42.2.23.jar\") \\\n",
    "    .config(\"spark.driver.extraClassPath\", \"/opt/spark/jars/postgresql-42.2.23.jar\") \\\n",
    "    .getOrCreate()\n",
    "\n",
    "# Define Schema (Modify according to your Parquet file structure)\n",
    "schema = StructType([\n",
    "    StructField(\"category\", StringType(), True),\n",
    "    StructField(\"avg_discount_category\", DoubleType(), True)\n",
    "])\n",
    "\n",
    "# Load Parquet file from HDFS with Schema\n",
    "df = spark.read.schema(schema).parquet(\"hdfs://namenode-master:8020/output_parquet/avg_discount_category/part-00000-d154ddcd-e856-4040-86ba-8c334543cdcb-c000.snappy.parquet\")\n",
    "\n",
    "# Print Schema and Preview Data\n",
    "df.printSchema()\n",
    "df.show(5)\n",
    "\n",
    "# Define PostgreSQL connection properties\n",
    "db_url = \"jdbc:postgresql://postgres-db:5432/sparkdb\"\n",
    "db_properties = {\n",
    "    \"user\": \"user\",\n",
    "    \"password\": \"password\",\n",
    "    \"driver\": \"org.postgresql.Driver\"\n",
    "}\n",
    "\n",
    "# ✅ FIXED: Corrected the `.jdbc()` call\n",
    "df.write.mode(\"overwrite\").jdbc(db_url, \"output_parquet_table\", properties=db_properties)\n",
    "\n",
    "print(\"✅ Data successfully written to PostgreSQL!\")"
   ]
  }
 ],
 "metadata": {
  "kernelspec": {
   "display_name": "Python 3 (ipykernel)",
   "language": "python",
   "name": "python3"
  },
  "language_info": {
   "codemirror_mode": {
    "name": "ipython",
    "version": 3
   },
   "file_extension": ".py",
   "mimetype": "text/x-python",
   "name": "python",
   "nbconvert_exporter": "python",
   "pygments_lexer": "ipython3",
   "version": "3.10.16"
  }
 },
 "nbformat": 4,
 "nbformat_minor": 5
}
